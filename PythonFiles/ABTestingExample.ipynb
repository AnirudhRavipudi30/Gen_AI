{
 "cells": [
  {
   "cell_type": "code",
   "execution_count": 3,
   "id": "131c0825-5b6c-42a2-9aa7-0f2de7555289",
   "metadata": {},
   "outputs": [
    {
     "name": "stdout",
     "output_type": "stream",
     "text": [
      "                      Metric  Model A (ML Only)  Model B (GenAI-Enhanced)\n",
      "0  Mean Absolute Error (MAE)           2.164715                  1.784486\n",
      "1         Standard Deviation           0.054597                  0.048851\n",
      "\n",
      "T-Statistic: 36.33039523172153\n",
      "P-Value: 3.255719017464741e-58\n",
      "Conclusion: Significant improvement with Generative AI\n"
     ]
    }
   ],
   "source": [
    "import numpy as np\n",
    "import pandas as pd\n",
    "import scipy.stats as stats\n",
    "\n",
    "# Simulating A/B Test for Stock Price Prediction Using Generative AI\n",
    "\n",
    "np.random.seed(42)\n",
    "\n",
    "# Assume 50 stocks in each group, with 30 trading days\n",
    "stocks = 50\n",
    "days = 30\n",
    "\n",
    "# Generate simulated prediction errors (Mean Absolute Error - MAE) for both models\n",
    "# Model A: Traditional ML-Based Predictions\n",
    "mae_A = np.random.normal(loc=2.15, scale=0.3, size=(stocks, days))\n",
    "\n",
    "# Model B: Generative AI-Enhanced Predictions\n",
    "mae_B = np.random.normal(loc=1.78, scale=0.3, size=(stocks, days))\n",
    "\n",
    "# Calculate the average MAE for each model across stocks and days\n",
    "mean_mae_A = np.mean(mae_A, axis=1)\n",
    "mean_mae_B = np.mean(mae_B, axis=1)\n",
    "\n",
    "# Perform an Independent t-test to compare the models\n",
    "t_stat, p_value = stats.ttest_ind(mean_mae_A, mean_mae_B, equal_var=False)\n",
    "\n",
    "# Determine statistical significance\n",
    "alpha = 0.05  # 5% significance level\n",
    "result = \"Significant improvement with Generative AI\" if p_value < alpha else \"No significant difference\"\n",
    "\n",
    "# Create DataFrame for results\n",
    "ab_test_results_genai = pd.DataFrame({\n",
    "    \"Metric\": [\"Mean Absolute Error (MAE)\", \"Standard Deviation\"],\n",
    "    \"Model A (ML Only)\": [np.mean(mean_mae_A), np.std(mean_mae_A)],\n",
    "    \"Model B (GenAI-Enhanced)\": [np.mean(mean_mae_B), np.std(mean_mae_B)]\n",
    "})\n",
    "\n",
    "# Print the results\n",
    "print(ab_test_results_genai)\n",
    "\n",
    "# Print statistical test results\n",
    "print(\"\\nT-Statistic:\", t_stat)\n",
    "print(\"P-Value:\", p_value)\n",
    "print(\"Conclusion:\", result)\n",
    "\n",
    "# Save results to a CSV file (optional)\n",
    "ab_test_results_genai.to_csv(\"ab_test_stock_prediction_results.csv\", index=False)"
   ]
  },
  {
   "cell_type": "code",
   "execution_count": null,
   "id": "e4e29675-b4e6-492b-956f-e46894bc8e98",
   "metadata": {},
   "outputs": [],
   "source": []
  }
 ],
 "metadata": {
  "kernelspec": {
   "display_name": "Python [conda env:base] *",
   "language": "python",
   "name": "conda-base-py"
  },
  "language_info": {
   "codemirror_mode": {
    "name": "ipython",
    "version": 3
   },
   "file_extension": ".py",
   "mimetype": "text/x-python",
   "name": "python",
   "nbconvert_exporter": "python",
   "pygments_lexer": "ipython3",
   "version": "3.12.7"
  }
 },
 "nbformat": 4,
 "nbformat_minor": 5
}
