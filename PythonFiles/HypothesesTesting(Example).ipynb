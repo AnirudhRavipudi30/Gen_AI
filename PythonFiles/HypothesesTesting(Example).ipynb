{
 "cells": [
  {
   "cell_type": "code",
   "execution_count": 1,
   "id": "8de06914-cab0-4ef7-a661-ebb4dc62c6eb",
   "metadata": {},
   "outputs": [
    {
     "name": "stdout",
     "output_type": "stream",
     "text": [
      "                                Value\n",
      "Sample Mean Daily Return     0.004932\n",
      "Hypothesized Mean            0.005000\n",
      "Sample Standard Deviation    0.017410\n",
      "Sample Size                252.000000\n",
      "T-Statistic                 -0.061791\n",
      "P-Value                      0.524611\n",
      "Fail to reject H₀: Not enough evidence to say Apple's return is greater than 0.5%.\n"
     ]
    }
   ],
   "source": [
    "import numpy as np\n",
    "import scipy.stats as stats\n",
    "import pandas as pd\n",
    "\n",
    "# Simulating synthetic daily returns for Apple (AAPL) over 252 trading days (1 year)\n",
    "np.random.seed(42)  # For reproducibility\n",
    "synthetic_returns_apple = np.random.normal(loc=0.005, scale=0.018, size=252)  # Mean ~ 0.5%, Std Dev ~ 1.8%\n",
    "\n",
    "# Sample statistics\n",
    "sample_mean_apple = np.mean(synthetic_returns_apple)  # Mean daily return\n",
    "sample_std_apple = np.std(synthetic_returns_apple, ddof=1)  # Sample standard deviation\n",
    "n_apple = len(synthetic_returns_apple)  # Sample size\n",
    "\n",
    "# Hypothesized mean return (0.5% = 0.005)\n",
    "mu_0_apple = 0.005\n",
    "\n",
    "# Perform one-sample t-test\n",
    "t_statistic_apple, p_value_apple = stats.ttest_1samp(synthetic_returns_apple, mu_0_apple, alternative='greater')\n",
    "\n",
    "# Display results\n",
    "results_apple = {\n",
    "    \"Sample Mean Daily Return\": sample_mean_apple,\n",
    "    \"Hypothesized Mean\": mu_0_apple,\n",
    "    \"Sample Standard Deviation\": sample_std_apple,\n",
    "    \"Sample Size\": n_apple,\n",
    "    \"T-Statistic\": t_statistic_apple,\n",
    "    \"P-Value\": p_value_apple\n",
    "}\n",
    "\n",
    "results_df_apple = pd.DataFrame.from_dict(results_apple, orient='index', columns=[\"Value\"])\n",
    "print(results_df_apple)\n",
    "\n",
    "# Interpretation\n",
    "alpha = 0.05  # Significance level\n",
    "\n",
    "if p_value_apple < alpha:\n",
    "    print(\"Reject H₀: Apple's daily return is significantly greater than 0.5%.\")\n",
    "else:\n",
    "    print(\"Fail to reject H₀: Not enough evidence to say Apple's return is greater than 0.5%.\")"
   ]
  },
  {
   "cell_type": "code",
   "execution_count": null,
   "id": "edb3bbc5-254c-4918-a811-5d18d1524ff2",
   "metadata": {},
   "outputs": [],
   "source": []
  }
 ],
 "metadata": {
  "kernelspec": {
   "display_name": "Python [conda env:base] *",
   "language": "python",
   "name": "conda-base-py"
  },
  "language_info": {
   "codemirror_mode": {
    "name": "ipython",
    "version": 3
   },
   "file_extension": ".py",
   "mimetype": "text/x-python",
   "name": "python",
   "nbconvert_exporter": "python",
   "pygments_lexer": "ipython3",
   "version": "3.12.7"
  }
 },
 "nbformat": 4,
 "nbformat_minor": 5
}
