{
 "cells": [
  {
   "cell_type": "code",
   "execution_count": 1,
   "id": "dad166c7-7e89-47af-aa9e-46a12ec713d1",
   "metadata": {},
   "outputs": [
    {
     "name": "stdout",
     "output_type": "stream",
     "text": [
      "Mean Absolute Error (MAE) - House Price Prediction: 4193.701366864857\n",
      "Root Mean Squared Error (RMSE) - Stock Price Prediction: 10.41452765393356\n",
      "Mean Absolute Percentage Error (MAPE) - Sales Forecasting: 509.46165457624033\n",
      "Adjusted R-Squared - GDP Prediction: 0.6969626076560499\n"
     ]
    }
   ],
   "source": [
    "import numpy as np\n",
    "import pandas as pd\n",
    "from sklearn.model_selection import train_test_split\n",
    "from sklearn.linear_model import LinearRegression\n",
    "from sklearn.metrics import mean_absolute_error, mean_squared_error, r2_score\n",
    "\n",
    "# Example 1: Mean Absolute Error (MAE) - House Price Prediction\n",
    "np.random.seed(42)\n",
    "square_footage = np.random.uniform(1000, 3000, 200)  # House sizes in square feet\n",
    "house_prices = square_footage * 150 + np.random.randn(200) * 5000  # House prices with variation\n",
    "\n",
    "df_house = pd.DataFrame({'Square Footage': square_footage, 'House Price': house_prices})\n",
    "X_train, X_test, Y_train, Y_test = train_test_split(df_house[['Square Footage']], df_house['House Price'], test_size=0.2, random_state=42)\n",
    "model = LinearRegression()\n",
    "model.fit(X_train, Y_train)\n",
    "Y_pred = model.predict(X_test)\n",
    "mae_house = mean_absolute_error(Y_test, Y_pred)\n",
    "\n",
    "# Example 2: Root Mean Squared Error (RMSE) - Stock Price Prediction\n",
    "np.random.seed(42)\n",
    "opening_price = np.random.uniform(100, 500, 200)  # Opening price between $100 and $500\n",
    "closing_price = opening_price * 1.02 + np.random.randn(200) * 10  # Closing price with variation\n",
    "\n",
    "df_stock = pd.DataFrame({'Opening Price': opening_price, 'Closing Price': closing_price})\n",
    "X_train, X_test, Y_train, Y_test = train_test_split(df_stock[['Opening Price']], df_stock['Closing Price'], test_size=0.2, random_state=42)\n",
    "model.fit(X_train, Y_train)\n",
    "Y_pred = model.predict(X_test)\n",
    "rmse_stock = np.sqrt(mean_squared_error(Y_test, Y_pred))\n",
    "\n",
    "# Example 3: Mean Absolute Percentage Error (MAPE) - Sales Forecasting\n",
    "np.random.seed(42)\n",
    "ad_spend = np.random.uniform(1000, 10000, 200)  # Ad spend per day\n",
    "sales = ad_spend * 0.08 + np.random.randn(200) * 500  # Sales with variation\n",
    "\n",
    "df_sales = pd.DataFrame({'Ad Spend': ad_spend, 'Sales': sales})\n",
    "X_train, X_test, Y_train, Y_test = train_test_split(df_sales[['Ad Spend']], df_sales['Sales'], test_size=0.2, random_state=42)\n",
    "model.fit(X_train, Y_train)\n",
    "Y_pred = model.predict(X_test)\n",
    "mape_sales = np.mean(np.abs((Y_test - Y_pred) / Y_test)) * 100\n",
    "\n",
    "# Example 4: Adjusted R-Squared - GDP Prediction\n",
    "np.random.seed(42)\n",
    "inflation = np.random.uniform(1, 10, 200)  # Inflation rate in percentage\n",
    "interest_rate = np.random.uniform(2, 8, 200)  # Interest rate in percentage\n",
    "investment = np.random.uniform(5000, 50000, 200)  # Investment in billions\n",
    "gdp = 50000 + (inflation * -200) + (interest_rate * 300) + (investment * 0.5) + np.random.randn(200) * 5000\n",
    "\n",
    "df_gdp = pd.DataFrame({'Inflation': inflation, 'Interest Rate': interest_rate, 'Investment': investment, 'GDP': gdp})\n",
    "X_train, X_test, Y_train, Y_test = train_test_split(df_gdp[['Inflation', 'Interest Rate', 'Investment']], df_gdp['GDP'], test_size=0.2, random_state=42)\n",
    "model.fit(X_train, Y_train)\n",
    "Y_pred = model.predict(X_test)\n",
    "r2_gdp = r2_score(Y_test, Y_pred)\n",
    "n = X_test.shape[0]  # Number of observations\n",
    "p = X_test.shape[1]  # Number of predictors\n",
    "adjusted_r2_gdp = 1 - ((1 - r2_gdp) * (n - 1) / (n - p - 1))\n",
    "\n",
    "# Print results\n",
    "print(\"Mean Absolute Error (MAE) - House Price Prediction:\", mae_house)\n",
    "print(\"Root Mean Squared Error (RMSE) - Stock Price Prediction:\", rmse_stock)\n",
    "print(\"Mean Absolute Percentage Error (MAPE) - Sales Forecasting:\", mape_sales)\n",
    "print(\"Adjusted R-Squared - GDP Prediction:\", adjusted_r2_gdp)\n"
   ]
  },
  {
   "cell_type": "code",
   "execution_count": null,
   "id": "3de4b84c-32c2-478e-8d6f-4f176b53b104",
   "metadata": {},
   "outputs": [],
   "source": []
  }
 ],
 "metadata": {
  "kernelspec": {
   "display_name": "Python [conda env:base] *",
   "language": "python",
   "name": "conda-base-py"
  },
  "language_info": {
   "codemirror_mode": {
    "name": "ipython",
    "version": 3
   },
   "file_extension": ".py",
   "mimetype": "text/x-python",
   "name": "python",
   "nbconvert_exporter": "python",
   "pygments_lexer": "ipython3",
   "version": "3.12.7"
  }
 },
 "nbformat": 4,
 "nbformat_minor": 5
}
