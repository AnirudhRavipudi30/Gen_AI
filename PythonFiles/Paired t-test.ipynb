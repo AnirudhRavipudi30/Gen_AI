{
 "cells": [
  {
   "cell_type": "code",
   "execution_count": 1,
   "id": "46209e76-ba99-471c-a0bd-5c5afba57c14",
   "metadata": {},
   "outputs": [
    {
     "name": "stdout",
     "output_type": "stream",
     "text": [
      "T-Statistic: -3.2089, P-Value: 0.0032\n",
      "Reject H₀: The earnings report significantly affected Apple's stock price.\n"
     ]
    }
   ],
   "source": [
    "import numpy as np\n",
    "import scipy.stats as stats\n",
    "\n",
    "# Simulating stock prices before and after an earnings report\n",
    "np.random.seed(42)\n",
    "before_earnings = np.random.normal(loc=150, scale=5, size=30)  # Prices before earnings\n",
    "after_earnings = before_earnings + np.random.normal(loc=2, scale=3, size=30)  # Small change after earnings\n",
    "\n",
    "# Perform Paired t-Test\n",
    "t_statistic, p_value = stats.ttest_rel(before_earnings, after_earnings)\n",
    "\n",
    "# Print results\n",
    "print(f\"T-Statistic: {t_statistic:.4f}, P-Value: {p_value:.4f}\")\n",
    "if p_value < 0.05:\n",
    "    print(\"Reject H₀: The earnings report significantly affected Apple's stock price.\")\n",
    "else:\n",
    "    print(\"Fail to reject H₀: No significant effect of the earnings report on stock price.\")"
   ]
  },
  {
   "cell_type": "code",
   "execution_count": 1,
   "id": "676ede9c-ea75-4823-8d4c-56f03577e3b0",
   "metadata": {},
   "outputs": [
    {
     "name": "stdout",
     "output_type": "stream",
     "text": [
      "F-Statistic: 2.1386, P-Value: 0.1185\n",
      "Fail to reject H₀: No significant difference among Apple, Tesla, and Amazon returns.\n"
     ]
    }
   ],
   "source": [
    "import numpy as np\n",
    "import scipy.stats as stats\n",
    "\n",
    "# Simulating Apple (AAPL), Tesla (TSLA), and Amazon (AMZN) daily returns\n",
    "np.random.seed(42)\n",
    "aapl_returns = np.random.normal(loc=0.005, scale=0.018, size=252)\n",
    "tsla_returns = np.random.normal(loc=0.006, scale=0.02, size=252)\n",
    "amzn_returns = np.random.normal(loc=0.0045, scale=0.019, size=252)\n",
    "\n",
    "# Perform ANOVA\n",
    "f_statistic, p_value = stats.f_oneway(aapl_returns, tsla_returns, amzn_returns)\n",
    "\n",
    "# Print results\n",
    "print(f\"F-Statistic: {f_statistic:.4f}, P-Value: {p_value:.4f}\")\n",
    "if p_value < 0.05:\n",
    "    print(\"Reject H₀: At least one stock has a significantly different return.\")\n",
    "else:\n",
    "    print(\"Fail to reject H₀: No significant difference among Apple, Tesla, and Amazon returns.\")"
   ]
  },
  {
   "cell_type": "code",
   "execution_count": null,
   "id": "e6d6262c-badb-4487-8753-9226d06b8113",
   "metadata": {},
   "outputs": [],
   "source": []
  }
 ],
 "metadata": {
  "kernelspec": {
   "display_name": "Python [conda env:base] *",
   "language": "python",
   "name": "conda-base-py"
  },
  "language_info": {
   "codemirror_mode": {
    "name": "ipython",
    "version": 3
   },
   "file_extension": ".py",
   "mimetype": "text/x-python",
   "name": "python",
   "nbconvert_exporter": "python",
   "pygments_lexer": "ipython3",
   "version": "3.12.7"
  }
 },
 "nbformat": 4,
 "nbformat_minor": 5
}
