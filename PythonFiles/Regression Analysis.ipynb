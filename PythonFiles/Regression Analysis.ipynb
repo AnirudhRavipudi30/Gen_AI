{
 "cells": [
  {
   "cell_type": "code",
   "execution_count": 1,
   "id": "26b47653-4a25-4073-8890-ab0bd2be6518",
   "metadata": {},
   "outputs": [
    {
     "name": "stdout",
     "output_type": "stream",
     "text": [
      "                            OLS Regression Results                            \n",
      "==============================================================================\n",
      "Dep. Variable:                      y   R-squared:                       0.000\n",
      "Model:                            OLS   Adj. R-squared:                 -0.004\n",
      "Method:                 Least Squares   F-statistic:                    0.1228\n",
      "Date:                Wed, 26 Feb 2025   Prob (F-statistic):              0.726\n",
      "Time:                        10:22:50   Log-Likelihood:                 663.77\n",
      "No. Observations:                 252   AIC:                            -1324.\n",
      "Df Residuals:                     250   BIC:                            -1316.\n",
      "Df Model:                           1                                         \n",
      "Covariance Type:            nonrobust                                         \n",
      "==============================================================================\n",
      "                 coef    std err          t      P>|t|      [0.025      0.975]\n",
      "------------------------------------------------------------------------------\n",
      "const          0.0048      0.001      4.108      0.000       0.002       0.007\n",
      "x1             0.0257      0.073      0.350      0.726      -0.119       0.170\n",
      "==============================================================================\n",
      "Omnibus:                        7.235   Durbin-Watson:                   2.105\n",
      "Prob(Omnibus):                  0.027   Jarque-Bera (JB):                7.734\n",
      "Skew:                           0.301   Prob(JB):                       0.0209\n",
      "Kurtosis:                       3.611   Cond. No.                         66.6\n",
      "==============================================================================\n",
      "\n",
      "Notes:\n",
      "[1] Standard Errors assume that the covariance matrix of the errors is correctly specified.\n"
     ]
    }
   ],
   "source": [
    "import numpy as np\n",
    "import statsmodels.api as sm\n",
    "\n",
    "# Simulating Apple (AAPL) and S&P 500 returns\n",
    "np.random.seed(42)\n",
    "aapl_returns = np.random.normal(loc=0.005, scale=0.018, size=252)\n",
    "sp500_returns = np.random.normal(loc=0.005, scale=0.015, size=252)\n",
    "\n",
    "# Independent variable (S&P 500 returns)\n",
    "X = sm.add_constant(sp500_returns)  # Adds intercept\n",
    "\n",
    "# Dependent variable (Apple returns)\n",
    "y = aapl_returns\n",
    "\n",
    "# Perform Regression\n",
    "model = sm.OLS(y, X).fit()\n",
    "\n",
    "# Print Regression Summary\n",
    "print(model.summary())"
   ]
  },
  {
   "cell_type": "code",
   "execution_count": null,
   "id": "87cea66d-83e6-4fc1-95d3-938ff7d6ad86",
   "metadata": {},
   "outputs": [],
   "source": []
  }
 ],
 "metadata": {
  "kernelspec": {
   "display_name": "Python [conda env:base] *",
   "language": "python",
   "name": "conda-base-py"
  },
  "language_info": {
   "codemirror_mode": {
    "name": "ipython",
    "version": 3
   },
   "file_extension": ".py",
   "mimetype": "text/x-python",
   "name": "python",
   "nbconvert_exporter": "python",
   "pygments_lexer": "ipython3",
   "version": "3.12.7"
  }
 },
 "nbformat": 4,
 "nbformat_minor": 5
}
