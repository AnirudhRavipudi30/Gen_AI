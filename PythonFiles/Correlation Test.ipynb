{
 "cells": [
  {
   "cell_type": "code",
   "execution_count": 1,
   "id": "42b7c588-80f4-41ce-9061-e53a24adb3bb",
   "metadata": {},
   "outputs": [
    {
     "name": "stdout",
     "output_type": "stream",
     "text": [
      "Correlation Coefficient: 0.0222, P-Value: 0.7263\n",
      "Fail to reject H₀: No significant correlation between Apple and S&P 500 returns.\n"
     ]
    }
   ],
   "source": [
    "import numpy as np\n",
    "import scipy.stats as stats\n",
    "\n",
    "# Simulating Apple (AAPL) and S&P 500 returns\n",
    "np.random.seed(42)\n",
    "aapl_returns = np.random.normal(loc=0.005, scale=0.018, size=252)\n",
    "sp500_returns = np.random.normal(loc=0.005, scale=0.015, size=252)\n",
    "\n",
    "# Perform Pearson's Correlation Test\n",
    "corr_coefficient, p_value = stats.pearsonr(aapl_returns, sp500_returns)\n",
    "\n",
    "# Print results\n",
    "print(f\"Correlation Coefficient: {corr_coefficient:.4f}, P-Value: {p_value:.4f}\")\n",
    "if p_value < 0.05:\n",
    "    print(\"Reject H₀: There is a significant correlation between Apple and S&P 500 returns.\")\n",
    "else:\n",
    "    print(\"Fail to reject H₀: No significant correlation between Apple and S&P 500 returns.\")"
   ]
  },
  {
   "cell_type": "code",
   "execution_count": null,
   "id": "6c4812fb-8aca-44a8-bdd7-8b612bf9e698",
   "metadata": {},
   "outputs": [],
   "source": []
  }
 ],
 "metadata": {
  "kernelspec": {
   "display_name": "Python [conda env:base] *",
   "language": "python",
   "name": "conda-base-py"
  },
  "language_info": {
   "codemirror_mode": {
    "name": "ipython",
    "version": 3
   },
   "file_extension": ".py",
   "mimetype": "text/x-python",
   "name": "python",
   "nbconvert_exporter": "python",
   "pygments_lexer": "ipython3",
   "version": "3.12.7"
  }
 },
 "nbformat": 4,
 "nbformat_minor": 5
}
