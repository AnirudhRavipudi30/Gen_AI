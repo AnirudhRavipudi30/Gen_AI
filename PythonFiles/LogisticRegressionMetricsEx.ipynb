{
 "cells": [
  {
   "cell_type": "code",
   "execution_count": 3,
   "id": "a6470264-36a2-4d81-9d36-352c12abb463",
   "metadata": {},
   "outputs": [
    {
     "name": "stdout",
     "output_type": "stream",
     "text": [
      "Accuracy - Spam Email Classification: 0.5\n",
      "Precision - Fraud Detection: 1.0\n",
      "Recall - Disease Diagnosis: 0.0\n",
      "ROC-AUC Score - Stock Price Prediction: 0.6279761904761905\n"
     ]
    }
   ],
   "source": [
    "import numpy as np\n",
    "import pandas as pd\n",
    "from sklearn.model_selection import train_test_split\n",
    "from sklearn.linear_model import LogisticRegression\n",
    "from sklearn.metrics import accuracy_score, precision_score, recall_score, roc_auc_score\n",
    "\n",
    "# Example 1: Accuracy - Spam Email Classification\n",
    "np.random.seed(42)\n",
    "email_features = np.random.randn(200, 3)  # Simulating email data with 3 features\n",
    "spam_labels = np.random.choice([0, 1], size=200, p=[0.5, 0.5])  # Balanced classes\n",
    "\n",
    "X_train, X_test, y_train, y_test = train_test_split(email_features, spam_labels, test_size=0.2, random_state=42)\n",
    "model = LogisticRegression()\n",
    "model.fit(X_train, y_train)\n",
    "y_pred = model.predict(X_test)\n",
    "accuracy_spam = accuracy_score(y_test, y_pred)\n",
    "\n",
    "# Example 2: Precision - Fraud Detection in Transactions\n",
    "fraud_features = np.random.randn(200, 3)  # Simulating transaction data\n",
    "fraud_labels = np.random.choice([0, 1], size=200, p=[0.9, 0.1])  # Imbalanced dataset (fraud is rare)\n",
    "\n",
    "X_train, X_test, y_train, y_test = train_test_split(fraud_features, fraud_labels, test_size=0.2, random_state=42)\n",
    "model.fit(X_train, y_train)\n",
    "y_pred = model.predict(X_test)\n",
    "precision_fraud = precision_score(y_test, y_pred, zero_division=1)\n",
    "\n",
    "# Example 3: Recall - Disease Diagnosis in Healthcare\n",
    "health_features = np.random.randn(200, 3)  # Simulating patient health data\n",
    "health_labels = np.random.choice([0, 1], size=200, p=[0.8, 0.2])  # Imbalanced dataset (disease is rare)\n",
    "\n",
    "X_train, X_test, y_train, y_test = train_test_split(health_features, health_labels, test_size=0.2, random_state=42)\n",
    "model.fit(X_train, y_train)\n",
    "y_pred = model.predict(X_test)\n",
    "recall_health = recall_score(y_test, y_pred)\n",
    "\n",
    "# Example 4: ROC-AUC Score - Stock Price Movement Prediction\n",
    "stock_features = np.random.randn(200, 3)  # Simulating stock market indicators\n",
    "stock_labels = np.random.choice([0, 1], size=200, p=[0.7, 0.3])  # Imbalanced dataset\n",
    "\n",
    "X_train, X_test, y_train, y_test = train_test_split(stock_features, stock_labels, test_size=0.2, random_state=42)\n",
    "model.fit(X_train, y_train)\n",
    "y_pred_probs = model.predict_proba(X_test)[:, 1]  # Probabilities for the positive class\n",
    "roc_auc_stock = roc_auc_score(y_test, y_pred_probs)\n",
    "\n",
    "# Print results\n",
    "print(\"Accuracy - Spam Email Classification:\", accuracy_spam)\n",
    "print(\"Precision - Fraud Detection:\", precision_fraud)\n",
    "print(\"Recall - Disease Diagnosis:\", recall_health)\n",
    "print(\"ROC-AUC Score - Stock Price Prediction:\", roc_auc_stock)\n"
   ]
  },
  {
   "cell_type": "code",
   "execution_count": null,
   "id": "d863e61d-83d9-4dde-9932-de2e79293a07",
   "metadata": {},
   "outputs": [],
   "source": []
  }
 ],
 "metadata": {
  "kernelspec": {
   "display_name": "Python [conda env:base] *",
   "language": "python",
   "name": "conda-base-py"
  },
  "language_info": {
   "codemirror_mode": {
    "name": "ipython",
    "version": 3
   },
   "file_extension": ".py",
   "mimetype": "text/x-python",
   "name": "python",
   "nbconvert_exporter": "python",
   "pygments_lexer": "ipython3",
   "version": "3.12.7"
  }
 },
 "nbformat": 4,
 "nbformat_minor": 5
}
