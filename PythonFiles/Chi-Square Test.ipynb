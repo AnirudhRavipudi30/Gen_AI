{
 "cells": [
  {
   "cell_type": "code",
   "execution_count": 1,
   "id": "ada733fe-a342-440e-9a67-554be7486c7b",
   "metadata": {},
   "outputs": [
    {
     "name": "stdout",
     "output_type": "stream",
     "text": [
      "Chi-Square Statistic: 10.5292, P-Value: 0.0012\n",
      "Reject H₀: Stock movement is significantly associated with news sentiment.\n"
     ]
    }
   ],
   "source": [
    "import numpy as np\n",
    "import scipy.stats as chi2\n",
    "\n",
    "# Simulated data: Stock movement (Up/Down) vs. News Sentiment (Positive/Negative)\n",
    "observed = np.array([[50, 30],  # Stock up with positive/negative news\n",
    "                     [20, 40]]) # Stock down with positive/negative news\n",
    "\n",
    "# Perform Chi-Square Test\n",
    "chi2_stat, p_value, dof, expected = chi2.chi2_contingency(observed)\n",
    "\n",
    "# Print results\n",
    "print(f\"Chi-Square Statistic: {chi2_stat:.4f}, P-Value: {p_value:.4f}\")\n",
    "if p_value < 0.05:\n",
    "    print(\"Reject H₀: Stock movement is significantly associated with news sentiment.\")\n",
    "else:\n",
    "    print(\"Fail to reject H₀: No significant association between stock movement and news sentiment.\")"
   ]
  },
  {
   "cell_type": "code",
   "execution_count": null,
   "id": "305d14d0-0ffd-424a-8dd3-9d7e80b52062",
   "metadata": {},
   "outputs": [],
   "source": []
  }
 ],
 "metadata": {
  "kernelspec": {
   "display_name": "Python [conda env:base] *",
   "language": "python",
   "name": "conda-base-py"
  },
  "language_info": {
   "codemirror_mode": {
    "name": "ipython",
    "version": 3
   },
   "file_extension": ".py",
   "mimetype": "text/x-python",
   "name": "python",
   "nbconvert_exporter": "python",
   "pygments_lexer": "ipython3",
   "version": "3.12.7"
  }
 },
 "nbformat": 4,
 "nbformat_minor": 5
}
