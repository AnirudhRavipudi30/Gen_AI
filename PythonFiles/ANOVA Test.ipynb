{
 "cells": [
  {
   "cell_type": "code",
   "execution_count": 1,
   "id": "389c2d1a-42ce-4332-b40e-bcbd9b09ee90",
   "metadata": {},
   "outputs": [
    {
     "name": "stdout",
     "output_type": "stream",
     "text": [
      "F-Statistic: 2.1386, P-Value: 0.1185\n",
      "Fail to reject H₀: No significant difference among Apple, Tesla, and Amazon returns.\n"
     ]
    }
   ],
   "source": [
    "import numpy as np\n",
    "import scipy.stats as stats\n",
    "\n",
    "# Simulating Apple (AAPL), Tesla (TSLA), and Amazon (AMZN) daily returns\n",
    "np.random.seed(42)\n",
    "aapl_returns = np.random.normal(loc=0.005, scale=0.018, size=252)\n",
    "tsla_returns = np.random.normal(loc=0.006, scale=0.02, size=252)\n",
    "amzn_returns = np.random.normal(loc=0.0045, scale=0.019, size=252)\n",
    "\n",
    "# Perform ANOVA\n",
    "f_statistic, p_value = stats.f_oneway(aapl_returns, tsla_returns, amzn_returns)\n",
    "\n",
    "# Print results\n",
    "print(f\"F-Statistic: {f_statistic:.4f}, P-Value: {p_value:.4f}\")\n",
    "if p_value < 0.05:\n",
    "    print(\"Reject H₀: At least one stock has a significantly different return.\")\n",
    "else:\n",
    "    print(\"Fail to reject H₀: No significant difference among Apple, Tesla, and Amazon returns.\")"
   ]
  },
  {
   "cell_type": "code",
   "execution_count": null,
   "id": "3ab82665-91fe-4615-bf28-195af325483c",
   "metadata": {},
   "outputs": [],
   "source": []
  }
 ],
 "metadata": {
  "kernelspec": {
   "display_name": "Python [conda env:base] *",
   "language": "python",
   "name": "conda-base-py"
  },
  "language_info": {
   "codemirror_mode": {
    "name": "ipython",
    "version": 3
   },
   "file_extension": ".py",
   "mimetype": "text/x-python",
   "name": "python",
   "nbconvert_exporter": "python",
   "pygments_lexer": "ipython3",
   "version": "3.12.7"
  }
 },
 "nbformat": 4,
 "nbformat_minor": 5
}
