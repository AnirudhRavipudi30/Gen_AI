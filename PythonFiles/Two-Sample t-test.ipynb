{
 "cells": [
  {
   "cell_type": "code",
   "execution_count": 1,
   "id": "ea117405-764f-4ba4-81b9-1f88ba2881cf",
   "metadata": {},
   "outputs": [
    {
     "name": "stdout",
     "output_type": "stream",
     "text": [
      "T-Statistic: -0.9404, P-Value: 0.3475\n",
      "Fail to reject H₀: No significant difference between Apple and Tesla returns.\n"
     ]
    }
   ],
   "source": [
    "import numpy as np\n",
    "import scipy.stats as stats\n",
    "\n",
    "# Simulating Apple (AAPL) and Tesla (TSLA) daily returns\n",
    "np.random.seed(42)\n",
    "aapl_returns = np.random.normal(loc=0.005, scale=0.018, size=252)\n",
    "tsla_returns = np.random.normal(loc=0.006, scale=0.02, size=252)\n",
    "\n",
    "# Perform Two-Sample t-Test\n",
    "t_statistic, p_value = stats.ttest_ind(aapl_returns, tsla_returns, equal_var=False)  # Assuming unequal variance\n",
    "\n",
    "# Print results\n",
    "print(f\"T-Statistic: {t_statistic:.4f}, P-Value: {p_value:.4f}\")\n",
    "if p_value < 0.05:\n",
    "    print(\"Reject H₀: Apple's and Tesla's returns are significantly different.\")\n",
    "else:\n",
    "    print(\"Fail to reject H₀: No significant difference between Apple and Tesla returns.\")"
   ]
  },
  {
   "cell_type": "code",
   "execution_count": null,
   "id": "d6600dbf-6ce8-4538-8ad3-aa7f35a643b6",
   "metadata": {},
   "outputs": [],
   "source": []
  }
 ],
 "metadata": {
  "kernelspec": {
   "display_name": "Python [conda env:base] *",
   "language": "python",
   "name": "conda-base-py"
  },
  "language_info": {
   "codemirror_mode": {
    "name": "ipython",
    "version": 3
   },
   "file_extension": ".py",
   "mimetype": "text/x-python",
   "name": "python",
   "nbconvert_exporter": "python",
   "pygments_lexer": "ipython3",
   "version": "3.12.7"
  }
 },
 "nbformat": 4,
 "nbformat_minor": 5
}
